{
 "cells": [
  {
   "cell_type": "code",
   "execution_count": null,
   "metadata": {},
   "outputs": [],
   "source": []
  },
  {
   "cell_type": "markdown",
   "metadata": {},
   "source": [
    "### Parte 1: Modelo analítico\n",
    "Si la rotación del balancín se parametriza mediante una función $\\theta_o(t)$ que describe el ángulo instantáneo que forma el bastidor con la horizontal (ver Figura 2).\n",
    "\n",
    "1 - Obtener las ecuaciones correspondientes a la cinemática de la rotación.\n",
    "2 - Obtener las ecuaciones correspondientes a la dinámica de la rotación.\n",
    "3 - Cálcular el momento de inercia.\n",
    "4 - Responder a las siguientes preguntas:\n",
    "\n",
    "¿Cuál considera que es la entrada del sistema?\n",
    "¿Cuál considera que es la salida del sistema?\n",
    "¿Cómo puede definir el torque?\n",
    "¿A qué se debe el torque que produce el cambio de actitud del balancín?"
   ]
  }
 ],
 "metadata": {
  "language_info": {
   "name": "python"
  }
 },
 "nbformat": 4,
 "nbformat_minor": 2
}
