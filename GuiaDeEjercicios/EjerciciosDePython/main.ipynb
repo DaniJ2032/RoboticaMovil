{
 "cells": [
  {
   "cell_type": "code",
   "execution_count": 3,
   "metadata": {},
   "outputs": [
    {
     "name": "stdout",
     "output_type": "stream",
     "text": [
      "Esta varibel de tipo  <class 'int'> tiene un valor de:  5\n",
      "Esta varibel de tipo  <class 'float'> tiene un valor de:  2.3\n",
      "Esta varibel de tipo  <class 'str'> tiene un valor de:  Hola como estas\n"
     ]
    }
   ],
   "source": [
    "# Ejercicios de python \n",
    "# 1 - Definir diferentes variables de tipo int, float y string y mostrar sus valores en la terminal interactiva y utilizando la función print\n",
    "\n",
    "A = 5\n",
    "B = 2.3 \n",
    "C = 'Hola como estas'\n",
    "\n",
    "print('Esta varibel de tipo ',type(A),'tiene un valor de: ',A )\n",
    "print('Esta varibel de tipo ',type(B),'tiene un valor de: ',B )\n",
    "print('Esta varibel de tipo ',type(C),'tiene un valor de: ',C )\n"
   ]
  },
  {
   "cell_type": "code",
   "execution_count": null,
   "metadata": {},
   "outputs": [],
   "source": [
    "# ¿Qué acciones realizan las funciones type() y dir()? (Ver ayuda con el comando type? y dir?\n",
    "\n",
    "help(type) # Devuelve el tipo de dato que se le pasa como parametro\n",
    "help(dir)  # Se puede usar para obtener el nombre de los atributos y métodos de un objeto."
   ]
  },
  {
   "cell_type": "code",
   "execution_count": null,
   "metadata": {},
   "outputs": [],
   "source": [
    "# 3 ¿Qué tipo de dato devuelve al ejecutar la sentencia?\n",
    "dir(list())"
   ]
  },
  {
   "cell_type": "code",
   "execution_count": null,
   "metadata": {},
   "outputs": [],
   "source": [
    "# 4 Buscar información sobre las 3 maneras de formatear una cadena:\n",
    " \n",
    "# i)\"printf-stype\" con %s \n",
    "nombre = \"Pepito\"\n",
    "altura = 1.65\n",
    "print(\"Hola, me llamo %s y mido %s metros.\" % (nombre, altura))\n",
    "\n",
    "# ii) usando .format() \n",
    "nombre = \"Pepito\"\n",
    "altura = 1.65\n",
    "print(\"Hola, me llamo {} y mido {} metros.\".format(nombre, altura))\n",
    "\n",
    "# iii) con \"f-string\".\n",
    "nombre = \"Pepito\"\n",
    "altura = 1.65\n",
    "print(f\"Hola, me llamo {nombre} y mido {altura} metros.\")\n"
   ]
  },
  {
   "cell_type": "code",
   "execution_count": 27,
   "metadata": {},
   "outputs": [
    {
     "name": "stdout",
     "output_type": "stream",
     "text": [
      "Utilizando format()\n",
      "Valor de la constante (π) con 3 decimales: 3.142\n",
      "Valor de la constante (π) con 6 decimales: 3.141593\n",
      "Valor de la constante (π) con 10 decimales: 3.1415926536 \n",
      "\n",
      "Utilizando f-string\n",
      "Valor de la constante (π) con 3 decimales:  3.142\n",
      "Valor de la constante (π) con 6 decimales:  3.141593\n",
      "Valor de la constante (π) con 10 decimales: 3.1415926536\n"
     ]
    }
   ],
   "source": [
    "# 5 Utilizar el módulo matemático (math) para imprimir el valor de la constante π. Mostrar su valor con 3, 6 y 10 decimales utilizando el formateo de cadenas. \n",
    "# format() y \"f-string\".\n",
    "\n",
    "import math # Se importa el módulo matemático\n",
    "\n",
    "# Con format()\n",
    "print('Utilizando format()')\n",
    "print(\"Valor de la constante (π) con 3 decimales: {:.3f}\".format(math.pi))\n",
    "print(\"Valor de la constante (π) con 6 decimales: {:.6f}\".format(math.pi))\n",
    "print(\"Valor de la constante (π) con 10 decimales: {:.10f}\".format(math.pi),'\\n')\n",
    "\n",
    "# Con f-string\n",
    "print('Utilizando f-string')\n",
    "print(f'Valor de la constante (π) con 3 decimales:  {math.pi:.3f}')\n",
    "print(f'Valor de la constante (π) con 6 decimales:  {math.pi:.6f}')\n",
    "print(f'Valor de la constante (π) con 10 decimales: {math.pi:.10f}')\n"
   ]
  },
  {
   "cell_type": "code",
   "execution_count": 31,
   "metadata": {},
   "outputs": [
    {
     "name": "stdout",
     "output_type": "stream",
     "text": [
      "Los métodos del tipo de dato str() son: \n",
      " ['__add__', '__class__', '__contains__', '__delattr__', '__dir__', '__doc__', '__eq__', '__format__', '__ge__', '__getattribute__', '__getitem__', '__getnewargs__', '__getstate__', '__gt__', '__hash__', '__init__', '__init_subclass__', '__iter__', '__le__', '__len__', '__lt__', '__mod__', '__mul__', '__ne__', '__new__', '__reduce__', '__reduce_ex__', '__repr__', '__rmod__', '__rmul__', '__setattr__', '__sizeof__', '__str__', '__subclasshook__', 'capitalize', 'casefold', 'center', 'count', 'encode', 'endswith', 'expandtabs', 'find', 'format', 'format_map', 'index', 'isalnum', 'isalpha', 'isascii', 'isdecimal', 'isdigit', 'isidentifier', 'islower', 'isnumeric', 'isprintable', 'isspace', 'istitle', 'isupper', 'join', 'ljust', 'lower', 'lstrip', 'maketrans', 'partition', 'removeprefix', 'removesuffix', 'replace', 'rfind', 'rindex', 'rjust', 'rpartition', 'rsplit', 'rstrip', 'split', 'splitlines', 'startswith', 'strip', 'swapcase', 'title', 'translate', 'upper', 'zfill']\n"
     ]
    }
   ],
   "source": [
    "# 6 ¿Cuáles son los métodos del tipo de datos str()\n",
    "\n",
    "print('Los métodos del tipo de dato str() son:','\\n',dir(str))\n"
   ]
  },
  {
   "cell_type": "code",
   "execution_count": null,
   "metadata": {},
   "outputs": [],
   "source": [
    "# 7 Qué hacen los siguientes métodos de una lista: append(), clear(), count(), index(). ¿Cómo se puede agregar y eliminar un elemento del medio?\n",
    "\n",
    "lista = [10, 25, 802]\n",
    "print('Valor de la lista original: ',lista)\n",
    "\n",
    "# Método append() agrega unelemento al final de una lista \n",
    "lista.append(542)\n",
    "print('Valor de la lista usando append(): ',lista)\n",
    "\n",
    "# El método clear() limpia por completo una lista\n",
    "lista.clear()\n",
    "print('Valor de la lista usando append(): ', lista)  # Salida: []\n",
    "\n",
    "# El método count() devuelve la cantidad de veces que aparece un valor en una lista\n",
    "lista = [10, 5, 80, 10, 542, 10]\n",
    "print('Valor de la lista usando count(): ', lista.count(10))\n",
    "\n",
    "# El método index() devuelve el indice de donde aparece un valor solicitado\n",
    "print('Valor de la lista usando index(): ', lista.index(542))\n",
    "\n",
    "# El método insert() permite agregar un elemento al medio de una lista\n",
    "indice = int(len(lista)/2)\n",
    "lista.insert(indice, 0) # a la mitad de la lista se agrega el valor 0 \n",
    "print('Valor de la lista usando insert(): ', lista)\n",
    "\n",
    "# El método pop() o la instrucción del., se puede eliminar un valor de la lista\n",
    "del lista[3] # Elimina el valor de indice 3 en la lista. En este caso es el 0 \n",
    "print('Valor de la lista usando del.: ', lista)\n",
    "\n",
    "valor_fuera = lista.pop(3) # Elimina el valor de indice 3. En este caso es el 10\n",
    "print('Valor de la lista usando pop(): ', lista, 'Valor eliminado: ', valor_fuera)\n",
    "\n"
   ]
  },
  {
   "cell_type": "code",
   "execution_count": null,
   "metadata": {},
   "outputs": [],
   "source": [
    "# 8 ¿Qué hace el slice al aplicarlo sobre una lista my_listcomo my_list[:]?\n",
    "my_list = [10, 20, 50 ,80 ,542, 9] # Lista original\n",
    "aux_list = my_list[:] # Se crea una copia completa de my_list en aux_list \n",
    "\n",
    "print('Valor de la lista original: ', my_list)\n",
    "print('Valor de la lista copiada : ', aux_list)"
   ]
  },
  {
   "cell_type": "code",
   "execution_count": null,
   "metadata": {},
   "outputs": [],
   "source": [
    "# 9 ¿Qué devuelve la ejecución de dir(tuple()) y qué contiene?\n",
    "\n",
    "dir(tuple()) # De esta manera devuelve una lsita con todos los atribútos y métodos para una variable tipo tupla()"
   ]
  },
  {
   "cell_type": "code",
   "execution_count": null,
   "metadata": {},
   "outputs": [],
   "source": [
    "# 10 Crear una tupla tup = (1,2,3,4). ¿Qué se obtiene al hacer tup[0] = 5?\n",
    "\n",
    "tup = (1,2,3,4) # tupla \n",
    "tup[0] = 5  # Esto da error debido a que las tuplas son inmutables\n",
    "print('Valor obtenido: ',tup[0])\n",
    "# TypeError: 'tuple' object does not support item assignment"
   ]
  },
  {
   "cell_type": "code",
   "execution_count": 60,
   "metadata": {},
   "outputs": [
    {
     "name": "stdout",
     "output_type": "stream",
     "text": [
      "Tipo de variable de tup_b: <class 'tuple'>\n",
      "Tipo de variable de tup_c: <class 'int'>\n"
     ]
    }
   ],
   "source": [
    "# 11 ¿Cuántos elementos tiene la siguiente tupla: tup_b = (10,)? ¿Qué sucede si se omite la coma?\n",
    "\n",
    "tup_b = (10,) # De esta manera se declara una tupla de un solo elemento\n",
    "tup_c = (10) # Si se omite la \",\" python interpreta como variable de tipo int a tup_c\n",
    " \n",
    "print('Tipo de variable de tup_b:', type(tup_b)) # <class 'tuple'>\n",
    "print('Tipo de variable de tup_c:', type(tup_c)) # <class 'int'>"
   ]
  }
 ],
 "metadata": {
  "kernelspec": {
   "display_name": "Python 3",
   "language": "python",
   "name": "python3"
  },
  "language_info": {
   "codemirror_mode": {
    "name": "ipython",
    "version": 3
   },
   "file_extension": ".py",
   "mimetype": "text/x-python",
   "name": "python",
   "nbconvert_exporter": "python",
   "pygments_lexer": "ipython3",
   "version": "3.12.2"
  }
 },
 "nbformat": 4,
 "nbformat_minor": 2
}
